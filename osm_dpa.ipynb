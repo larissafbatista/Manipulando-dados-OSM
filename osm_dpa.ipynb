{
  "cells": [
    {
      "cell_type": "markdown",
      "metadata": {
        "id": "view-in-github",
        "colab_type": "text"
      },
      "source": [
        "<a href=\"https://colab.research.google.com/github/larissafbatista/Manipulando-dados-OSM/blob/main/osm_dpa.ipynb\" target=\"_parent\"><img src=\"https://colab.research.google.com/assets/colab-badge.svg\" alt=\"Open In Colab\"/></a>"
      ]
    },
    {
      "cell_type": "markdown",
      "source": [
        "### **Pré-processamento**"
      ],
      "metadata": {
        "id": "Xl4M4CdOeOer"
      }
    },
    {
      "cell_type": "code",
      "execution_count": null,
      "metadata": {
        "colab": {
          "base_uri": "https://localhost:8080/"
        },
        "id": "TzBgHJGgGLnI",
        "outputId": "c0ffb392-cb12-450c-a7aa-c9d594db2c6c"
      },
      "outputs": [
        {
          "output_type": "stream",
          "name": "stdout",
          "text": [
            "Looking in indexes: https://pypi.org/simple, https://us-python.pkg.dev/colab-wheels/public/simple/\n",
            "Requirement already satisfied: geopandas in /usr/local/lib/python3.7/dist-packages (0.10.2)\n",
            "Requirement already satisfied: fiona>=1.8 in /usr/local/lib/python3.7/dist-packages (from geopandas) (1.8.21)\n",
            "Requirement already satisfied: shapely>=1.6 in /usr/local/lib/python3.7/dist-packages (from geopandas) (1.8.2)\n",
            "Requirement already satisfied: pandas>=0.25.0 in /usr/local/lib/python3.7/dist-packages (from geopandas) (1.3.5)\n",
            "Requirement already satisfied: pyproj>=2.2.0 in /usr/local/lib/python3.7/dist-packages (from geopandas) (3.2.1)\n",
            "Requirement already satisfied: six>=1.7 in /usr/local/lib/python3.7/dist-packages (from fiona>=1.8->geopandas) (1.15.0)\n",
            "Requirement already satisfied: cligj>=0.5 in /usr/local/lib/python3.7/dist-packages (from fiona>=1.8->geopandas) (0.7.2)\n",
            "Requirement already satisfied: attrs>=17 in /usr/local/lib/python3.7/dist-packages (from fiona>=1.8->geopandas) (21.4.0)\n",
            "Requirement already satisfied: click-plugins>=1.0 in /usr/local/lib/python3.7/dist-packages (from fiona>=1.8->geopandas) (1.1.1)\n",
            "Requirement already satisfied: setuptools in /usr/local/lib/python3.7/dist-packages (from fiona>=1.8->geopandas) (57.4.0)\n",
            "Requirement already satisfied: munch in /usr/local/lib/python3.7/dist-packages (from fiona>=1.8->geopandas) (2.5.0)\n",
            "Requirement already satisfied: click>=4.0 in /usr/local/lib/python3.7/dist-packages (from fiona>=1.8->geopandas) (7.1.2)\n",
            "Requirement already satisfied: certifi in /usr/local/lib/python3.7/dist-packages (from fiona>=1.8->geopandas) (2022.6.15)\n",
            "Requirement already satisfied: numpy>=1.17.3 in /usr/local/lib/python3.7/dist-packages (from pandas>=0.25.0->geopandas) (1.21.6)\n",
            "Requirement already satisfied: pytz>=2017.3 in /usr/local/lib/python3.7/dist-packages (from pandas>=0.25.0->geopandas) (2022.1)\n",
            "Requirement already satisfied: python-dateutil>=2.7.3 in /usr/local/lib/python3.7/dist-packages (from pandas>=0.25.0->geopandas) (2.8.2)\n",
            "Looking in indexes: https://pypi.org/simple, https://us-python.pkg.dev/colab-wheels/public/simple/\n",
            "Requirement already satisfied: OSMnx in /usr/local/lib/python3.7/dist-packages (1.1.2)\n",
            "Requirement already satisfied: networkx>=2.6 in /usr/local/lib/python3.7/dist-packages (from OSMnx) (2.6.3)\n",
            "Requirement already satisfied: Shapely<2.0,>=1.7 in /usr/local/lib/python3.7/dist-packages (from OSMnx) (1.8.2)\n",
            "Requirement already satisfied: Rtree>=0.9 in /usr/local/lib/python3.7/dist-packages (from OSMnx) (1.0.0)\n",
            "Requirement already satisfied: pyproj>=3.2 in /usr/local/lib/python3.7/dist-packages (from OSMnx) (3.2.1)\n",
            "Requirement already satisfied: geopandas>=0.10 in /usr/local/lib/python3.7/dist-packages (from OSMnx) (0.10.2)\n",
            "Requirement already satisfied: requests>=2.26 in /usr/local/lib/python3.7/dist-packages (from OSMnx) (2.28.1)\n",
            "Requirement already satisfied: pandas>=1.3 in /usr/local/lib/python3.7/dist-packages (from OSMnx) (1.3.5)\n",
            "Requirement already satisfied: matplotlib>=3.4 in /usr/local/lib/python3.7/dist-packages (from OSMnx) (3.5.2)\n",
            "Requirement already satisfied: numpy>=1.21 in /usr/local/lib/python3.7/dist-packages (from OSMnx) (1.21.6)\n",
            "Requirement already satisfied: fiona>=1.8 in /usr/local/lib/python3.7/dist-packages (from geopandas>=0.10->OSMnx) (1.8.21)\n",
            "Requirement already satisfied: setuptools in /usr/local/lib/python3.7/dist-packages (from fiona>=1.8->geopandas>=0.10->OSMnx) (57.4.0)\n",
            "Requirement already satisfied: attrs>=17 in /usr/local/lib/python3.7/dist-packages (from fiona>=1.8->geopandas>=0.10->OSMnx) (21.4.0)\n",
            "Requirement already satisfied: click>=4.0 in /usr/local/lib/python3.7/dist-packages (from fiona>=1.8->geopandas>=0.10->OSMnx) (7.1.2)\n",
            "Requirement already satisfied: certifi in /usr/local/lib/python3.7/dist-packages (from fiona>=1.8->geopandas>=0.10->OSMnx) (2022.6.15)\n",
            "Requirement already satisfied: click-plugins>=1.0 in /usr/local/lib/python3.7/dist-packages (from fiona>=1.8->geopandas>=0.10->OSMnx) (1.1.1)\n",
            "Requirement already satisfied: cligj>=0.5 in /usr/local/lib/python3.7/dist-packages (from fiona>=1.8->geopandas>=0.10->OSMnx) (0.7.2)\n",
            "Requirement already satisfied: six>=1.7 in /usr/local/lib/python3.7/dist-packages (from fiona>=1.8->geopandas>=0.10->OSMnx) (1.15.0)\n",
            "Requirement already satisfied: munch in /usr/local/lib/python3.7/dist-packages (from fiona>=1.8->geopandas>=0.10->OSMnx) (2.5.0)\n",
            "Requirement already satisfied: kiwisolver>=1.0.1 in /usr/local/lib/python3.7/dist-packages (from matplotlib>=3.4->OSMnx) (1.4.3)\n",
            "Requirement already satisfied: fonttools>=4.22.0 in /usr/local/lib/python3.7/dist-packages (from matplotlib>=3.4->OSMnx) (4.33.3)\n",
            "Requirement already satisfied: python-dateutil>=2.7 in /usr/local/lib/python3.7/dist-packages (from matplotlib>=3.4->OSMnx) (2.8.2)\n",
            "Requirement already satisfied: pillow>=6.2.0 in /usr/local/lib/python3.7/dist-packages (from matplotlib>=3.4->OSMnx) (7.1.2)\n",
            "Requirement already satisfied: packaging>=20.0 in /usr/local/lib/python3.7/dist-packages (from matplotlib>=3.4->OSMnx) (21.3)\n",
            "Requirement already satisfied: cycler>=0.10 in /usr/local/lib/python3.7/dist-packages (from matplotlib>=3.4->OSMnx) (0.11.0)\n",
            "Requirement already satisfied: pyparsing>=2.2.1 in /usr/local/lib/python3.7/dist-packages (from matplotlib>=3.4->OSMnx) (3.0.9)\n",
            "Requirement already satisfied: typing-extensions in /usr/local/lib/python3.7/dist-packages (from kiwisolver>=1.0.1->matplotlib>=3.4->OSMnx) (4.1.1)\n",
            "Requirement already satisfied: pytz>=2017.3 in /usr/local/lib/python3.7/dist-packages (from pandas>=1.3->OSMnx) (2022.1)\n",
            "Requirement already satisfied: urllib3<1.27,>=1.21.1 in /usr/local/lib/python3.7/dist-packages (from requests>=2.26->OSMnx) (1.24.3)\n",
            "Requirement already satisfied: idna<4,>=2.5 in /usr/local/lib/python3.7/dist-packages (from requests>=2.26->OSMnx) (2.10)\n",
            "Requirement already satisfied: charset-normalizer<3,>=2 in /usr/local/lib/python3.7/dist-packages (from requests>=2.26->OSMnx) (2.0.12)\n",
            "Looking in indexes: https://pypi.org/simple, https://us-python.pkg.dev/colab-wheels/public/simple/\n",
            "Requirement already satisfied: matplotlib in /usr/local/lib/python3.7/dist-packages (3.5.2)\n",
            "Requirement already satisfied: cycler>=0.10 in /usr/local/lib/python3.7/dist-packages (from matplotlib) (0.11.0)\n",
            "Requirement already satisfied: pyparsing>=2.2.1 in /usr/local/lib/python3.7/dist-packages (from matplotlib) (3.0.9)\n",
            "Requirement already satisfied: fonttools>=4.22.0 in /usr/local/lib/python3.7/dist-packages (from matplotlib) (4.33.3)\n",
            "Requirement already satisfied: python-dateutil>=2.7 in /usr/local/lib/python3.7/dist-packages (from matplotlib) (2.8.2)\n",
            "Requirement already satisfied: packaging>=20.0 in /usr/local/lib/python3.7/dist-packages (from matplotlib) (21.3)\n",
            "Requirement already satisfied: kiwisolver>=1.0.1 in /usr/local/lib/python3.7/dist-packages (from matplotlib) (1.4.3)\n",
            "Requirement already satisfied: pillow>=6.2.0 in /usr/local/lib/python3.7/dist-packages (from matplotlib) (7.1.2)\n",
            "Requirement already satisfied: numpy>=1.17 in /usr/local/lib/python3.7/dist-packages (from matplotlib) (1.21.6)\n",
            "Requirement already satisfied: typing-extensions in /usr/local/lib/python3.7/dist-packages (from kiwisolver>=1.0.1->matplotlib) (4.1.1)\n",
            "Requirement already satisfied: six>=1.5 in /usr/local/lib/python3.7/dist-packages (from python-dateutil>=2.7->matplotlib) (1.15.0)\n"
          ]
        }
      ],
      "source": [
        "# Instalando geopandas, OSMnx, Matplotlib\n",
        "!pip install geopandas\n",
        "!pip install OSMnx\n",
        "!pip install -U matplotlib"
      ]
    },
    {
      "cell_type": "code",
      "execution_count": null,
      "metadata": {
        "id": "9ji_HF4wHpjx"
      },
      "outputs": [],
      "source": [
        "import geopandas as gpd\n",
        "import osmnx as ox\n",
        "import matplotlib.pyplot as plt\n",
        "%matplotlib inline \n",
        "\n",
        "import fiona"
      ]
    },
    {
      "cell_type": "markdown",
      "metadata": {
        "id": "spQSWikGuaI1"
      },
      "source": [
        "Obs.: Ao se utilizar 'geometries_from_polygon' pode-se especificar a planície de inundação.\n"
      ]
    },
    {
      "cell_type": "markdown",
      "source": [
        "### **Obtendo dados**"
      ],
      "metadata": {
        "id": "pizV-RrOeX59"
      }
    },
    {
      "cell_type": "code",
      "execution_count": null,
      "metadata": {
        "id": "w4zqyNjbB_HW",
        "colab": {
          "base_uri": "https://localhost:8080/",
          "height": 210
        },
        "outputId": "fa0e45f4-ddde-4f41-b01f-58a061852391"
      },
      "outputs": [
        {
          "output_type": "display_data",
          "data": {
            "text/plain": [
              "<Figure size 432x288 with 1 Axes>"
            ],
            "image/png": "[encoded data removed]"
          },
          "metadata": {
            "needs_background": "light"
          }
        }
      ],
      "source": [
        "#Plotar shapefile\n",
        "shapefile = gpd.read_file(\"planicie_una_200_cb.shp\")\n",
        "shapefile.plot()\n",
        "plt.show()"
      ]
    },
    {
      "cell_type": "code",
      "execution_count": null,
      "metadata": {
        "id": "w4ZND9jBIj0F"
      },
      "outputs": [],
      "source": [
        "# plt.savefig('planicie_una.jpg', dpi=300, size=(300, 300)) #Salvando jpg"
      ]
    },
    {
      "cell_type": "code",
      "execution_count": null,
      "metadata": {
        "id": "fhhGmc1Yikst",
        "colab": {
          "base_uri": "https://localhost:8080/"
        },
        "outputId": "d288b5e5-76d4-43a6-f34e-27098c91d02c"
      },
      "outputs": [
        {
          "output_type": "stream",
          "name": "stderr",
          "text": [
            "/usr/local/lib/python3.7/dist-packages/ipykernel_launcher.py:7: FionaDeprecationWarning: Collection.__next__() is buggy and will be removed in Fiona 2.0. Switch to `next(iter(collection))`.\n",
            "  import sys\n"
          ]
        }
      ],
      "source": [
        "# Lembrar de carregar o shapefile em **coordenadas geográficas**!!!!!!!!!!!!!!\n",
        "\n",
        "# Conversão de shapefile para shapely (Função do shapely)\n",
        "from shapely.geometry import shape\n",
        "\n",
        "c = fiona.open('planicie_una_200_cb.shp') # Lê o arquivo\n",
        "poligono = c.next() # Retorna o próximo item numa interação?\n",
        "planicie = shape(poligono['geometry']) # Função do shapely.geometries"
      ]
    },
    {
      "cell_type": "code",
      "execution_count": null,
      "metadata": {
        "id": "KG-I1QXm3p9-",
        "colab": {
          "base_uri": "https://localhost:8080/"
        },
        "outputId": "672d06ab-7ee9-40bd-d6c1-b4a5a356a729"
      },
      "outputs": [
        {
          "output_type": "execute_result",
          "data": {
            "text/plain": [
              "shapely.geometry.multipolygon.MultiPolygon"
            ]
          },
          "metadata": {},
          "execution_count": 7
        }
      ],
      "source": [
        "type(planicie)"
      ]
    },
    {
      "cell_type": "code",
      "execution_count": null,
      "metadata": {
        "colab": {
          "base_uri": "https://localhost:8080/"
        },
        "id": "YscFg1uCtrn9",
        "outputId": "3d518108-0d01-4b82-94d0-ec8340d9a2d7"
      },
      "outputs": [
        {
          "output_type": "execute_result",
          "data": {
            "text/plain": [
              "networkx.classes.multidigraph.MultiDiGraph"
            ]
          },
          "metadata": {},
          "execution_count": 8
        }
      ],
      "source": [
        "# Buscando a rede viária do lugar de interesse\n",
        "rede_viaria = ox.graph_from_polygon(planicie)\n",
        "type(rede_viaria)"
      ]
    },
    {
      "cell_type": "code",
      "execution_count": null,
      "metadata": {
        "colab": {
          "base_uri": "https://localhost:8080/",
          "height": 213
        },
        "id": "Gn9EI4gig8rA",
        "outputId": "dc4c44ac-7f2d-46da-a9b8-17c8f43b0483"
      },
      "outputs": [
        {
          "output_type": "display_data",
          "data": {
            "text/plain": [
              "<Figure size 576x576 with 1 Axes>"
            ],
            "image/png": "[encoded data removed]"
          },
          "metadata": {}
        }
      ],
      "source": [
        "# Plotando\n",
        "fig, ax = ox.plot_graph(rede_viaria)"
      ]
    },
    {
      "cell_type": "code",
      "execution_count": null,
      "metadata": {
        "id": "pTgiK3SsuE04"
      },
      "outputs": [],
      "source": [
        "# Buscando o limite do município\n",
        "# place_name = \"Palmares, Pernambuco, Brasil\" \n",
        "# area = ox.geocode_to_gdf(place_name)\n",
        "\n",
        "# area.plot()"
      ]
    },
    {
      "cell_type": "code",
      "execution_count": null,
      "metadata": {
        "id": "MPDCqCXSMpMt"
      },
      "outputs": [],
      "source": [
        "# Buscando edificações da área\n",
        "edificios = ox.geometries_from_polygon(planicie, tags={'building':True})"
      ]
    },
    {
      "cell_type": "code",
      "execution_count": null,
      "metadata": {
        "id": "w_xvZSWkp83P",
        "colab": {
          "base_uri": "https://localhost:8080/",
          "height": 212
        },
        "outputId": "668007b4-0969-4376-833f-832fd22c9f19"
      },
      "outputs": [
        {
          "output_type": "execute_result",
          "data": {
            "text/plain": [
              "<AxesSubplot:>"
            ]
          },
          "metadata": {},
          "execution_count": 12
        },
        {
          "output_type": "display_data",
          "data": {
            "text/plain": [
              "<Figure size 432x288 with 1 Axes>"
            ],
            "image/png": "[encoded data removed]"
          },
          "metadata": {
            "needs_background": "light"
          }
        }
      ],
      "source": [
        "edificios.plot()"
      ]
    },
    {
      "cell_type": "code",
      "execution_count": null,
      "metadata": {
        "id": "5CZr9xZvIoIl"
      },
      "outputs": [],
      "source": [
        "# plt.savefig('edificios_una.jpg', dpi=300, size=(300, 300)) # Salvando jpg"
      ]
    },
    {
      "cell_type": "code",
      "execution_count": null,
      "metadata": {
        "id": "lq3DI5ZxEO5Z",
        "colab": {
          "base_uri": "https://localhost:8080/"
        },
        "outputId": "98c8d98f-cd34-49e0-9546-48593eab16a1"
      },
      "outputs": [
        {
          "output_type": "stream",
          "name": "stdout",
          "text": [
            "Existem em 858 edifícios na base de dados para a área em questão.\n"
          ]
        }
      ],
      "source": [
        "# Checando quantidades\n",
        "print(f'Existem em {len(edificios)} edifícios na base de dados para a área em questão.')"
      ]
    },
    {
      "cell_type": "code",
      "execution_count": null,
      "metadata": {
        "id": "t-PKrG6aqmUa",
        "colab": {
          "base_uri": "https://localhost:8080/",
          "height": 542
        },
        "outputId": "d5b8d4c8-82da-43cf-ff2a-fcf6d41ed10d"
      },
      "outputs": [
        {
          "output_type": "execute_result",
          "data": {
            "text/plain": [
              "                                                                 geometry  \\\n",
              "element_type osmid                                                          \n",
              "way          548927715  POLYGON ((-35.59044 -8.68616, -35.59078 -8.686...   \n",
              "             692737417  POLYGON ((-35.59393 -8.68803, -35.59375 -8.687...   \n",
              "             692737422  POLYGON ((-35.59295 -8.68705, -35.59281 -8.686...   \n",
              "             692737424  POLYGON ((-35.59399 -8.68694, -35.59362 -8.686...   \n",
              "             692737425  POLYGON ((-35.59120 -8.68568, -35.59105 -8.685...   \n",
              "\n",
              "                                                                    nodes  \\\n",
              "element_type osmid                                                          \n",
              "way          548927715  [4080775272, 5302742576, 5302742577, 530274257...   \n",
              "             692737417  [6503612987, 6503612988, 6503612989, 650361299...   \n",
              "             692737422  [6503613094, 6503613095, 6503613096, 650361309...   \n",
              "             692737424  [6503613106, 6503613107, 6503613108, 650361310...   \n",
              "             692737425  [6503613124, 6503613125, 6503613126, 650361312...   \n",
              "\n",
              "                       building                    name         shop amenity  \\\n",
              "element_type osmid                                                             \n",
              "way          548927715      yes  Supermercado Confiança  supermarket     NaN   \n",
              "             692737417      yes                     NaN          NaN     NaN   \n",
              "             692737422      yes                     NaN          NaN     NaN   \n",
              "             692737424      yes                     NaN          NaN     NaN   \n",
              "             692737425      yes                     NaN          NaN     NaN   \n",
              "\n",
              "                        bus public_transport denomination religion layer  \n",
              "element_type osmid                                                        \n",
              "way          548927715  NaN              NaN          NaN      NaN   NaN  \n",
              "             692737417  NaN              NaN          NaN      NaN   NaN  \n",
              "             692737422  NaN              NaN          NaN      NaN   NaN  \n",
              "             692737424  NaN              NaN          NaN      NaN   NaN  \n",
              "             692737425  NaN              NaN          NaN      NaN   NaN  "
            ],
            "text/html": [
              "\n",
              "  <div id=\"df-96349681-58f7-4cfa-a57b-c02537b06f08\">\n",
              "    <div class=\"colab-df-container\">\n",
              "      <div>\n",
              "<style scoped>\n",
              "    .dataframe tbody tr th:only-of-type {\n",
              "        vertical-align: middle;\n",
              "    }\n",
              "\n",
              "    .dataframe tbody tr th {\n",
              "        vertical-align: top;\n",
              "    }\n",
              "\n",
              "    .dataframe thead th {\n",
              "        text-align: right;\n",
              "    }\n",
              "</style>\n",
              "<table border=\"1\" class=\"dataframe\">\n",
              "  <thead>\n",
              "    <tr style=\"text-align: right;\">\n",
              "      <th></th>\n",
              "      <th></th>\n",
              "      <th>geometry</th>\n",
              "      <th>nodes</th>\n",
              "      <th>building</th>\n",
              "      <th>name</th>\n",
              "      <th>shop</th>\n",
              "      <th>amenity</th>\n",
              "      <th>bus</th>\n",
              "      <th>public_transport</th>\n",
              "      <th>denomination</th>\n",
              "      <th>religion</th>\n",
              "      <th>layer</th>\n",
              "    </tr>\n",
              "    <tr>\n",
              "      <th>element_type</th>\n",
              "      <th>osmid</th>\n",
              "      <th></th>\n",
              "      <th></th>\n",
              "      <th></th>\n",
              "      <th></th>\n",
              "      <th></th>\n",
              "      <th></th>\n",
              "      <th></th>\n",
              "      <th></th>\n",
              "      <th></th>\n",
              "      <th></th>\n",
              "      <th></th>\n",
              "    </tr>\n",
              "  </thead>\n",
              "  <tbody>\n",
              "    <tr>\n",
              "      <th rowspan=\"5\" valign=\"top\">way</th>\n",
              "      <th>548927715</th>\n",
              "      <td>POLYGON ((-35.59044 -8.68616, -35.59078 -8.686...</td>\n",
              "      <td>[4080775272, 5302742576, 5302742577, 530274257...</td>\n",
              "      <td>yes</td>\n",
              "      <td>Supermercado Confiança</td>\n",
              "      <td>supermarket</td>\n",
              "      <td>NaN</td>\n",
              "      <td>NaN</td>\n",
              "      <td>NaN</td>\n",
              "      <td>NaN</td>\n",
              "      <td>NaN</td>\n",
              "      <td>NaN</td>\n",
              "    </tr>\n",
              "    <tr>\n",
              "      <th>692737417</th>\n",
              "      <td>POLYGON ((-35.59393 -8.68803, -35.59375 -8.687...</td>\n",
              "      <td>[6503612987, 6503612988, 6503612989, 650361299...</td>\n",
              "      <td>yes</td>\n",
              "      <td>NaN</td>\n",
              "      <td>NaN</td>\n",
              "      <td>NaN</td>\n",
              "      <td>NaN</td>\n",
              "      <td>NaN</td>\n",
              "      <td>NaN</td>\n",
              "      <td>NaN</td>\n",
              "      <td>NaN</td>\n",
              "    </tr>\n",
              "    <tr>\n",
              "      <th>692737422</th>\n",
              "      <td>POLYGON ((-35.59295 -8.68705, -35.59281 -8.686...</td>\n",
              "      <td>[6503613094, 6503613095, 6503613096, 650361309...</td>\n",
              "      <td>yes</td>\n",
              "      <td>NaN</td>\n",
              "      <td>NaN</td>\n",
              "      <td>NaN</td>\n",
              "      <td>NaN</td>\n",
              "      <td>NaN</td>\n",
              "      <td>NaN</td>\n",
              "      <td>NaN</td>\n",
              "      <td>NaN</td>\n",
              "    </tr>\n",
              "    <tr>\n",
              "      <th>692737424</th>\n",
              "      <td>POLYGON ((-35.59399 -8.68694, -35.59362 -8.686...</td>\n",
              "      <td>[6503613106, 6503613107, 6503613108, 650361310...</td>\n",
              "      <td>yes</td>\n",
              "      <td>NaN</td>\n",
              "      <td>NaN</td>\n",
              "      <td>NaN</td>\n",
              "      <td>NaN</td>\n",
              "      <td>NaN</td>\n",
              "      <td>NaN</td>\n",
              "      <td>NaN</td>\n",
              "      <td>NaN</td>\n",
              "    </tr>\n",
              "    <tr>\n",
              "      <th>692737425</th>\n",
              "      <td>POLYGON ((-35.59120 -8.68568, -35.59105 -8.685...</td>\n",
              "      <td>[6503613124, 6503613125, 6503613126, 650361312...</td>\n",
              "      <td>yes</td>\n",
              "      <td>NaN</td>\n",
              "      <td>NaN</td>\n",
              "      <td>NaN</td>\n",
              "      <td>NaN</td>\n",
              "      <td>NaN</td>\n",
              "      <td>NaN</td>\n",
              "      <td>NaN</td>\n",
              "      <td>NaN</td>\n",
              "    </tr>\n",
              "  </tbody>\n",
              "</table>\n",
              "</div>\n",
              "      <button class=\"colab-df-convert\" onclick=\"convertToInteractive('df-96349681-58f7-4cfa-a57b-c02537b06f08')\"\n",
              "              title=\"Convert this dataframe to an interactive table.\"\n",
              "              style=\"display:none;\">\n",
              "        \n",
              "  <svg xmlns=\"http://www.w3.org/2000/svg\" height=\"24px\"viewBox=\"0 0 24 24\"\n",
              "       width=\"24px\">\n",
              "    <path d=\"M0 0h24v24H0V0z\" fill=\"none\"/>\n",
              "    <path d=\"M18.56 5.44l.94 2.06.94-2.06 2.06-.94-2.06-.94-.94-2.06-.94 2.06-2.06.94zm-11 1L8.5 8.5l.94-2.06 2.06-.94-2.06-.94L8.5 2.5l-.94 2.06-2.06.94zm10 10l.94 2.06.94-2.06 2.06-.94-2.06-.94-.94-2.06-.94 2.06-2.06.94z\"/><path d=\"M17.41 7.96l-1.37-1.37c-.4-.4-.92-.59-1.43-.59-.52 0-1.04.2-1.43.59L10.3 9.45l-7.72 7.72c-.78.78-.78 2.05 0 2.83L4 21.41c.39.39.9.59 1.41.59.51 0 1.02-.2 1.41-.59l7.78-7.78 2.81-2.81c.8-.78.8-2.07 0-2.86zM5.41 20L4 18.59l7.72-7.72 1.47 1.35L5.41 20z\"/>\n",
              "  </svg>\n",
              "      </button>\n",
              "      \n",
              "  <style>\n",
              "    .colab-df-container {\n",
              "      display:flex;\n",
              "      flex-wrap:wrap;\n",
              "      gap: 12px;\n",
              "    }\n",
              "\n",
              "    .colab-df-convert {\n",
              "      background-color: #E8F0FE;\n",
              "      border: none;\n",
              "      border-radius: 50%;\n",
              "      cursor: pointer;\n",
              "      display: none;\n",
              "      fill: #1967D2;\n",
              "      height: 32px;\n",
              "      padding: 0 0 0 0;\n",
              "      width: 32px;\n",
              "    }\n",
              "\n",
              "    .colab-df-convert:hover {\n",
              "      background-color: #E2EBFA;\n",
              "      box-shadow: 0px 1px 2px rgba(60, 64, 67, 0.3), 0px 1px 3px 1px rgba(60, 64, 67, 0.15);\n",
              "      fill: #174EA6;\n",
              "    }\n",
              "\n",
              "    [theme=dark] .colab-df-convert {\n",
              "      background-color: #3B4455;\n",
              "      fill: #D2E3FC;\n",
              "    }\n",
              "\n",
              "    [theme=dark] .colab-df-convert:hover {\n",
              "      background-color: #434B5C;\n",
              "      box-shadow: 0px 1px 3px 1px rgba(0, 0, 0, 0.15);\n",
              "      filter: drop-shadow(0px 1px 2px rgba(0, 0, 0, 0.3));\n",
              "      fill: #FFFFFF;\n",
              "    }\n",
              "  </style>\n",
              "\n",
              "      <script>\n",
              "        const buttonEl =\n",
              "          document.querySelector('#df-96349681-58f7-4cfa-a57b-c02537b06f08 button.colab-df-convert');\n",
              "        buttonEl.style.display =\n",
              "          google.colab.kernel.accessAllowed ? 'block' : 'none';\n",
              "\n",
              "        async function convertToInteractive(key) {\n",
              "          const element = document.querySelector('#df-96349681-58f7-4cfa-a57b-c02537b06f08');\n",
              "          const dataTable =\n",
              "            await google.colab.kernel.invokeFunction('convertToInteractive',\n",
              "                                                     [key], {});\n",
              "          if (!dataTable) return;\n",
              "\n",
              "          const docLinkHtml = 'Like what you see? Visit the ' +\n",
              "            '<a target=\"_blank\" href=https://colab.research.google.com/notebooks/data_table.ipynb>data table notebook</a>'\n",
              "            + ' to learn more about interactive tables.';\n",
              "          element.innerHTML = '';\n",
              "          dataTable['output_type'] = 'display_data';\n",
              "          await google.colab.output.renderOutput(dataTable, element);\n",
              "          const docLink = document.createElement('div');\n",
              "          docLink.innerHTML = docLinkHtml;\n",
              "          element.appendChild(docLink);\n",
              "        }\n",
              "      </script>\n",
              "    </div>\n",
              "  </div>\n",
              "  "
            ]
          },
          "metadata": {},
          "execution_count": 15
        }
      ],
      "source": [
        "# Checando a tabela de atributos\n",
        "edificios.head()"
      ]
    },
    {
      "cell_type": "code",
      "execution_count": null,
      "metadata": {
        "id": "D7BA6t1PZ1NW",
        "colab": {
          "base_uri": "https://localhost:8080/"
        },
        "outputId": "5e4cf104-12c8-47bb-805c-48b10771e86c"
      },
      "outputs": [
        {
          "output_type": "execute_result",
          "data": {
            "text/plain": [
              "Index(['geometry', 'nodes', 'building', 'name', 'shop', 'amenity', 'bus',\n",
              "       'public_transport', 'denomination', 'religion', 'layer'],\n",
              "      dtype='object')"
            ]
          },
          "metadata": {},
          "execution_count": 16
        }
      ],
      "source": [
        "# Todas as informações contidas na tabela\n",
        "edificios.columns"
      ]
    },
    {
      "cell_type": "code",
      "execution_count": null,
      "metadata": {
        "id": "q83GXu3dutJN"
      },
      "outputs": [],
      "source": [
        "# Buscando outros itens (amenities: restaurantes)\n",
        "socioecon = ox.geometries_from_polygon(planicie, tags = {'amenity':True, 'landuse':True, 'leisure': True, 'tourism': True})"
      ]
    },
    {
      "cell_type": "markdown",
      "metadata": {
        "id": "MyXHzjqMs6cJ"
      },
      "source": [
        "Obs.:As tags definem que informação se vai buscar."
      ]
    },
    {
      "cell_type": "code",
      "execution_count": null,
      "metadata": {
        "id": "Xx9uPBiCuLHG",
        "colab": {
          "base_uri": "https://localhost:8080/"
        },
        "outputId": "1fcc4507-d8f3-48bc-edfb-16182f990dc6"
      },
      "outputs": [
        {
          "output_type": "execute_result",
          "data": {
            "text/plain": [
              "Index(['amenity', 'name', 'opening_hours', 'operator', 'geometry', 'religion',\n",
              "       'addr:city', 'addr:housenumber', 'addr:street', 'addr:suburb', 'brand',\n",
              "       'brand:wikidata', 'brand:wikipedia', 'phone', 'website', 'cuisine',\n",
              "       'takeaway', 'denomination', 'lit', 'addr:postcode', 'note',\n",
              "       'townhall:type', 'opening_hours:covid19', 'nodes', 'leisure', 'landuse',\n",
              "       'cycleway', 'footway', 'surface', 'building', 'bus',\n",
              "       'public_transport'],\n",
              "      dtype='object')"
            ]
          },
          "metadata": {},
          "execution_count": 18
        }
      ],
      "source": [
        "# Todas as informações contidas na tabela\n",
        "socioecon.columns"
      ]
    },
    {
      "cell_type": "code",
      "execution_count": null,
      "metadata": {
        "id": "3ZC9s0Xwue10",
        "colab": {
          "base_uri": "https://localhost:8080/",
          "height": 238
        },
        "outputId": "a124290b-97de-44ee-d72d-bc5f3f245a83"
      },
      "outputs": [
        {
          "output_type": "execute_result",
          "data": {
            "text/plain": [
              "                                                      name  \\\n",
              "element_type osmid                                           \n",
              "node         4988932745                 Cine Teatro Apollo   \n",
              "             5302742560                 Assembléia De Deus   \n",
              "             5302742562                         Milk Shake   \n",
              "             5302742563                       Açaí Concept   \n",
              "             5302742567  Igreja Universal do Reino de Deus   \n",
              "\n",
              "                                           geometry           amenity leisure  \\\n",
              "element_type osmid                                                              \n",
              "node         4988932745  POINT (-35.58973 -8.68567)            cinema     NaN   \n",
              "             5302742560  POINT (-35.59064 -8.68361)  place_of_worship     NaN   \n",
              "             5302742562  POINT (-35.59008 -8.68483)         ice_cream     NaN   \n",
              "             5302742563  POINT (-35.59003 -8.68495)         fast_food     NaN   \n",
              "             5302742567  POINT (-35.59088 -8.68675)  place_of_worship     NaN   \n",
              "\n",
              "                        landuse  \n",
              "element_type osmid               \n",
              "node         4988932745     NaN  \n",
              "             5302742560     NaN  \n",
              "             5302742562     NaN  \n",
              "             5302742563     NaN  \n",
              "             5302742567     NaN  "
            ],
            "text/html": [
              "\n",
              "  <div id=\"df-f1b0a420-4b75-4d0b-b3af-eb6f4f00a171\">\n",
              "    <div class=\"colab-df-container\">\n",
              "      <div>\n",
              "<style scoped>\n",
              "    .dataframe tbody tr th:only-of-type {\n",
              "        vertical-align: middle;\n",
              "    }\n",
              "\n",
              "    .dataframe tbody tr th {\n",
              "        vertical-align: top;\n",
              "    }\n",
              "\n",
              "    .dataframe thead th {\n",
              "        text-align: right;\n",
              "    }\n",
              "</style>\n",
              "<table border=\"1\" class=\"dataframe\">\n",
              "  <thead>\n",
              "    <tr style=\"text-align: right;\">\n",
              "      <th></th>\n",
              "      <th></th>\n",
              "      <th>name</th>\n",
              "      <th>geometry</th>\n",
              "      <th>amenity</th>\n",
              "      <th>leisure</th>\n",
              "      <th>landuse</th>\n",
              "    </tr>\n",
              "    <tr>\n",
              "      <th>element_type</th>\n",
              "      <th>osmid</th>\n",
              "      <th></th>\n",
              "      <th></th>\n",
              "      <th></th>\n",
              "      <th></th>\n",
              "      <th></th>\n",
              "    </tr>\n",
              "  </thead>\n",
              "  <tbody>\n",
              "    <tr>\n",
              "      <th rowspan=\"5\" valign=\"top\">node</th>\n",
              "      <th>4988932745</th>\n",
              "      <td>Cine Teatro Apollo</td>\n",
              "      <td>POINT (-35.58973 -8.68567)</td>\n",
              "      <td>cinema</td>\n",
              "      <td>NaN</td>\n",
              "      <td>NaN</td>\n",
              "    </tr>\n",
              "    <tr>\n",
              "      <th>5302742560</th>\n",
              "      <td>Assembléia De Deus</td>\n",
              "      <td>POINT (-35.59064 -8.68361)</td>\n",
              "      <td>place_of_worship</td>\n",
              "      <td>NaN</td>\n",
              "      <td>NaN</td>\n",
              "    </tr>\n",
              "    <tr>\n",
              "      <th>5302742562</th>\n",
              "      <td>Milk Shake</td>\n",
              "      <td>POINT (-35.59008 -8.68483)</td>\n",
              "      <td>ice_cream</td>\n",
              "      <td>NaN</td>\n",
              "      <td>NaN</td>\n",
              "    </tr>\n",
              "    <tr>\n",
              "      <th>5302742563</th>\n",
              "      <td>Açaí Concept</td>\n",
              "      <td>POINT (-35.59003 -8.68495)</td>\n",
              "      <td>fast_food</td>\n",
              "      <td>NaN</td>\n",
              "      <td>NaN</td>\n",
              "    </tr>\n",
              "    <tr>\n",
              "      <th>5302742567</th>\n",
              "      <td>Igreja Universal do Reino de Deus</td>\n",
              "      <td>POINT (-35.59088 -8.68675)</td>\n",
              "      <td>place_of_worship</td>\n",
              "      <td>NaN</td>\n",
              "      <td>NaN</td>\n",
              "    </tr>\n",
              "  </tbody>\n",
              "</table>\n",
              "</div>\n",
              "      <button class=\"colab-df-convert\" onclick=\"convertToInteractive('df-f1b0a420-4b75-4d0b-b3af-eb6f4f00a171')\"\n",
              "              title=\"Convert this dataframe to an interactive table.\"\n",
              "              style=\"display:none;\">\n",
              "        \n",
              "  <svg xmlns=\"http://www.w3.org/2000/svg\" height=\"24px\"viewBox=\"0 0 24 24\"\n",
              "       width=\"24px\">\n",
              "    <path d=\"M0 0h24v24H0V0z\" fill=\"none\"/>\n",
              "    <path d=\"M18.56 5.44l.94 2.06.94-2.06 2.06-.94-2.06-.94-.94-2.06-.94 2.06-2.06.94zm-11 1L8.5 8.5l.94-2.06 2.06-.94-2.06-.94L8.5 2.5l-.94 2.06-2.06.94zm10 10l.94 2.06.94-2.06 2.06-.94-2.06-.94-.94-2.06-.94 2.06-2.06.94z\"/><path d=\"M17.41 7.96l-1.37-1.37c-.4-.4-.92-.59-1.43-.59-.52 0-1.04.2-1.43.59L10.3 9.45l-7.72 7.72c-.78.78-.78 2.05 0 2.83L4 21.41c.39.39.9.59 1.41.59.51 0 1.02-.2 1.41-.59l7.78-7.78 2.81-2.81c.8-.78.8-2.07 0-2.86zM5.41 20L4 18.59l7.72-7.72 1.47 1.35L5.41 20z\"/>\n",
              "  </svg>\n",
              "      </button>\n",
              "      \n",
              "  <style>\n",
              "    .colab-df-container {\n",
              "      display:flex;\n",
              "      flex-wrap:wrap;\n",
              "      gap: 12px;\n",
              "    }\n",
              "\n",
              "    .colab-df-convert {\n",
              "      background-color: #E8F0FE;\n",
              "      border: none;\n",
              "      border-radius: 50%;\n",
              "      cursor: pointer;\n",
              "      display: none;\n",
              "      fill: #1967D2;\n",
              "      height: 32px;\n",
              "      padding: 0 0 0 0;\n",
              "      width: 32px;\n",
              "    }\n",
              "\n",
              "    .colab-df-convert:hover {\n",
              "      background-color: #E2EBFA;\n",
              "      box-shadow: 0px 1px 2px rgba(60, 64, 67, 0.3), 0px 1px 3px 1px rgba(60, 64, 67, 0.15);\n",
              "      fill: #174EA6;\n",
              "    }\n",
              "\n",
              "    [theme=dark] .colab-df-convert {\n",
              "      background-color: #3B4455;\n",
              "      fill: #D2E3FC;\n",
              "    }\n",
              "\n",
              "    [theme=dark] .colab-df-convert:hover {\n",
              "      background-color: #434B5C;\n",
              "      box-shadow: 0px 1px 3px 1px rgba(0, 0, 0, 0.15);\n",
              "      filter: drop-shadow(0px 1px 2px rgba(0, 0, 0, 0.3));\n",
              "      fill: #FFFFFF;\n",
              "    }\n",
              "  </style>\n",
              "\n",
              "      <script>\n",
              "        const buttonEl =\n",
              "          document.querySelector('#df-f1b0a420-4b75-4d0b-b3af-eb6f4f00a171 button.colab-df-convert');\n",
              "        buttonEl.style.display =\n",
              "          google.colab.kernel.accessAllowed ? 'block' : 'none';\n",
              "\n",
              "        async function convertToInteractive(key) {\n",
              "          const element = document.querySelector('#df-f1b0a420-4b75-4d0b-b3af-eb6f4f00a171');\n",
              "          const dataTable =\n",
              "            await google.colab.kernel.invokeFunction('convertToInteractive',\n",
              "                                                     [key], {});\n",
              "          if (!dataTable) return;\n",
              "\n",
              "          const docLinkHtml = 'Like what you see? Visit the ' +\n",
              "            '<a target=\"_blank\" href=https://colab.research.google.com/notebooks/data_table.ipynb>data table notebook</a>'\n",
              "            + ' to learn more about interactive tables.';\n",
              "          element.innerHTML = '';\n",
              "          dataTable['output_type'] = 'display_data';\n",
              "          await google.colab.output.renderOutput(dataTable, element);\n",
              "          const docLink = document.createElement('div');\n",
              "          docLink.innerHTML = docLinkHtml;\n",
              "          element.appendChild(docLink);\n",
              "        }\n",
              "      </script>\n",
              "    </div>\n",
              "  </div>\n",
              "  "
            ]
          },
          "metadata": {},
          "execution_count": 19
        }
      ],
      "source": [
        "# Selecionando apenas alguns dos atributos\n",
        "cols = ['name', 'geometry', 'amenity', 'leisure', 'landuse']\n",
        "socioecon[cols].head()"
      ]
    },
    {
      "cell_type": "code",
      "execution_count": null,
      "metadata": {
        "id": "Pkws_u6uvNR_"
      },
      "outputs": [],
      "source": [
        "# Convertendo rede viária (MultiDiGraph) em GeoDataFrames\n",
        "nodes, edges = ox.graph_to_gdfs(rede_viaria)"
      ]
    },
    {
      "cell_type": "code",
      "execution_count": null,
      "metadata": {
        "id": "MYFe53YOvt8X",
        "colab": {
          "base_uri": "https://localhost:8080/",
          "height": 200
        },
        "outputId": "e45554b9-1f85-4641-bee8-8f049992c85b"
      },
      "outputs": [
        {
          "output_type": "execute_result",
          "data": {
            "text/plain": [
              "<AxesSubplot:>"
            ]
          },
          "metadata": {},
          "execution_count": 21
        },
        {
          "output_type": "display_data",
          "data": {
            "text/plain": [
              "<Figure size 432x288 with 1 Axes>"
            ],
            "image/png": "[encoded data removed]"
          },
          "metadata": {
            "needs_background": "light"
          }
        }
      ],
      "source": [
        "type(nodes)\n",
        "nodes.plot()"
      ]
    },
    {
      "cell_type": "code",
      "execution_count": null,
      "metadata": {
        "id": "Hgzlj7Hwv1pN",
        "colab": {
          "base_uri": "https://localhost:8080/",
          "height": 219
        },
        "outputId": "165eded0-38e8-4506-a88a-7b9c609c2bce"
      },
      "outputs": [
        {
          "output_type": "stream",
          "name": "stdout",
          "text": [
            "<class 'geopandas.geodataframe.GeoDataFrame'>\n"
          ]
        },
        {
          "output_type": "execute_result",
          "data": {
            "text/plain": [
              "<AxesSubplot:>"
            ]
          },
          "metadata": {},
          "execution_count": 22
        },
        {
          "output_type": "display_data",
          "data": {
            "text/plain": [
              "<Figure size 432x288 with 1 Axes>"
            ],
            "image/png": "[encoded data removed]"
          },
          "metadata": {
            "needs_background": "light"
          }
        }
      ],
      "source": [
        "print(type(edges))\n",
        "edges.plot()"
      ]
    },
    {
      "cell_type": "code",
      "execution_count": null,
      "metadata": {
        "id": "EtNwufLZIrq1"
      },
      "outputs": [],
      "source": [
        "# plt.savefig('rede_viaria_una.jpg', dpi=300, size=(300, 300)) # Salvando jpg"
      ]
    },
    {
      "cell_type": "code",
      "execution_count": null,
      "metadata": {
        "id": "71y2g0afv8tc",
        "colab": {
          "base_uri": "https://localhost:8080/",
          "height": 238
        },
        "outputId": "ca944463-e34e-4cf1-ec19-8b9cf7a23396"
      },
      "outputs": [
        {
          "output_type": "execute_result",
          "data": {
            "text/plain": [
              "                              osmid                            name  \\\n",
              "u         v          key                                              \n",
              "848015896 7035534588 0    405944548              Rua Coronel Izacio   \n",
              "848015903 4080775566 0     71240095        Rua Manoel Alves Peixoto   \n",
              "          4080798758 0    405944741         Avenida Clementino Melo   \n",
              "848015950 4080775551 0    542076443            Avenida José Gouveia   \n",
              "          4080775202 0    683628898  Avenida Coronel Pedro Paranhos   \n",
              "\n",
              "                              highway  oneway  length  \\\n",
              "u         v          key                                \n",
              "848015896 7035534588 0       tertiary   False  80.990   \n",
              "848015903 4080775566 0    residential   False  47.539   \n",
              "          4080798758 0    residential   False  50.987   \n",
              "848015950 4080775551 0    residential   False   8.418   \n",
              "          4080775202 0      secondary    True  74.505   \n",
              "\n",
              "                                                                   geometry  \\\n",
              "u         v          key                                                      \n",
              "848015896 7035534588 0    LINESTRING (-35.59082 -8.68548, -35.59079 -8.6...   \n",
              "848015903 4080775566 0    LINESTRING (-35.59905 -8.68394, -35.59946 -8.6...   \n",
              "          4080798758 0    LINESTRING (-35.59905 -8.68394, -35.59887 -8.6...   \n",
              "848015950 4080775551 0    LINESTRING (-35.59884 -8.68810, -35.59887 -8.6...   \n",
              "          4080775202 0    LINESTRING (-35.59884 -8.68810, -35.59822 -8.6...   \n",
              "\n",
              "                             ref bridge  \n",
              "u         v          key                 \n",
              "848015896 7035534588 0       NaN    NaN  \n",
              "848015903 4080775566 0       NaN    NaN  \n",
              "          4080798758 0       NaN    NaN  \n",
              "848015950 4080775551 0       NaN    NaN  \n",
              "          4080775202 0    PE-103    NaN  "
            ],
            "text/html": [
              "\n",
              "  <div id=\"df-c04033d3-a7cf-4a2b-85b6-12b769309cf0\">\n",
              "    <div class=\"colab-df-container\">\n",
              "      <div>\n",
              "<style scoped>\n",
              "    .dataframe tbody tr th:only-of-type {\n",
              "        vertical-align: middle;\n",
              "    }\n",
              "\n",
              "    .dataframe tbody tr th {\n",
              "        vertical-align: top;\n",
              "    }\n",
              "\n",
              "    .dataframe thead th {\n",
              "        text-align: right;\n",
              "    }\n",
              "</style>\n",
              "<table border=\"1\" class=\"dataframe\">\n",
              "  <thead>\n",
              "    <tr style=\"text-align: right;\">\n",
              "      <th></th>\n",
              "      <th></th>\n",
              "      <th></th>\n",
              "      <th>osmid</th>\n",
              "      <th>name</th>\n",
              "      <th>highway</th>\n",
              "      <th>oneway</th>\n",
              "      <th>length</th>\n",
              "      <th>geometry</th>\n",
              "      <th>ref</th>\n",
              "      <th>bridge</th>\n",
              "    </tr>\n",
              "    <tr>\n",
              "      <th>u</th>\n",
              "      <th>v</th>\n",
              "      <th>key</th>\n",
              "      <th></th>\n",
              "      <th></th>\n",
              "      <th></th>\n",
              "      <th></th>\n",
              "      <th></th>\n",
              "      <th></th>\n",
              "      <th></th>\n",
              "      <th></th>\n",
              "    </tr>\n",
              "  </thead>\n",
              "  <tbody>\n",
              "    <tr>\n",
              "      <th>848015896</th>\n",
              "      <th>7035534588</th>\n",
              "      <th>0</th>\n",
              "      <td>405944548</td>\n",
              "      <td>Rua Coronel Izacio</td>\n",
              "      <td>tertiary</td>\n",
              "      <td>False</td>\n",
              "      <td>80.990</td>\n",
              "      <td>LINESTRING (-35.59082 -8.68548, -35.59079 -8.6...</td>\n",
              "      <td>NaN</td>\n",
              "      <td>NaN</td>\n",
              "    </tr>\n",
              "    <tr>\n",
              "      <th rowspan=\"2\" valign=\"top\">848015903</th>\n",
              "      <th>4080775566</th>\n",
              "      <th>0</th>\n",
              "      <td>71240095</td>\n",
              "      <td>Rua Manoel Alves Peixoto</td>\n",
              "      <td>residential</td>\n",
              "      <td>False</td>\n",
              "      <td>47.539</td>\n",
              "      <td>LINESTRING (-35.59905 -8.68394, -35.59946 -8.6...</td>\n",
              "      <td>NaN</td>\n",
              "      <td>NaN</td>\n",
              "    </tr>\n",
              "    <tr>\n",
              "      <th>4080798758</th>\n",
              "      <th>0</th>\n",
              "      <td>405944741</td>\n",
              "      <td>Avenida Clementino Melo</td>\n",
              "      <td>residential</td>\n",
              "      <td>False</td>\n",
              "      <td>50.987</td>\n",
              "      <td>LINESTRING (-35.59905 -8.68394, -35.59887 -8.6...</td>\n",
              "      <td>NaN</td>\n",
              "      <td>NaN</td>\n",
              "    </tr>\n",
              "    <tr>\n",
              "      <th rowspan=\"2\" valign=\"top\">848015950</th>\n",
              "      <th>4080775551</th>\n",
              "      <th>0</th>\n",
              "      <td>542076443</td>\n",
              "      <td>Avenida José Gouveia</td>\n",
              "      <td>residential</td>\n",
              "      <td>False</td>\n",
              "      <td>8.418</td>\n",
              "      <td>LINESTRING (-35.59884 -8.68810, -35.59887 -8.6...</td>\n",
              "      <td>NaN</td>\n",
              "      <td>NaN</td>\n",
              "    </tr>\n",
              "    <tr>\n",
              "      <th>4080775202</th>\n",
              "      <th>0</th>\n",
              "      <td>683628898</td>\n",
              "      <td>Avenida Coronel Pedro Paranhos</td>\n",
              "      <td>secondary</td>\n",
              "      <td>True</td>\n",
              "      <td>74.505</td>\n",
              "      <td>LINESTRING (-35.59884 -8.68810, -35.59822 -8.6...</td>\n",
              "      <td>PE-103</td>\n",
              "      <td>NaN</td>\n",
              "    </tr>\n",
              "  </tbody>\n",
              "</table>\n",
              "</div>\n",
              "      <button class=\"colab-df-convert\" onclick=\"convertToInteractive('df-c04033d3-a7cf-4a2b-85b6-12b769309cf0')\"\n",
              "              title=\"Convert this dataframe to an interactive table.\"\n",
              "              style=\"display:none;\">\n",
              "        \n",
              "  <svg xmlns=\"http://www.w3.org/2000/svg\" height=\"24px\"viewBox=\"0 0 24 24\"\n",
              "       width=\"24px\">\n",
              "    <path d=\"M0 0h24v24H0V0z\" fill=\"none\"/>\n",
              "    <path d=\"M18.56 5.44l.94 2.06.94-2.06 2.06-.94-2.06-.94-.94-2.06-.94 2.06-2.06.94zm-11 1L8.5 8.5l.94-2.06 2.06-.94-2.06-.94L8.5 2.5l-.94 2.06-2.06.94zm10 10l.94 2.06.94-2.06 2.06-.94-2.06-.94-.94-2.06-.94 2.06-2.06.94z\"/><path d=\"M17.41 7.96l-1.37-1.37c-.4-.4-.92-.59-1.43-.59-.52 0-1.04.2-1.43.59L10.3 9.45l-7.72 7.72c-.78.78-.78 2.05 0 2.83L4 21.41c.39.39.9.59 1.41.59.51 0 1.02-.2 1.41-.59l7.78-7.78 2.81-2.81c.8-.78.8-2.07 0-2.86zM5.41 20L4 18.59l7.72-7.72 1.47 1.35L5.41 20z\"/>\n",
              "  </svg>\n",
              "      </button>\n",
              "      \n",
              "  <style>\n",
              "    .colab-df-container {\n",
              "      display:flex;\n",
              "      flex-wrap:wrap;\n",
              "      gap: 12px;\n",
              "    }\n",
              "\n",
              "    .colab-df-convert {\n",
              "      background-color: #E8F0FE;\n",
              "      border: none;\n",
              "      border-radius: 50%;\n",
              "      cursor: pointer;\n",
              "      display: none;\n",
              "      fill: #1967D2;\n",
              "      height: 32px;\n",
              "      padding: 0 0 0 0;\n",
              "      width: 32px;\n",
              "    }\n",
              "\n",
              "    .colab-df-convert:hover {\n",
              "      background-color: #E2EBFA;\n",
              "      box-shadow: 0px 1px 2px rgba(60, 64, 67, 0.3), 0px 1px 3px 1px rgba(60, 64, 67, 0.15);\n",
              "      fill: #174EA6;\n",
              "    }\n",
              "\n",
              "    [theme=dark] .colab-df-convert {\n",
              "      background-color: #3B4455;\n",
              "      fill: #D2E3FC;\n",
              "    }\n",
              "\n",
              "    [theme=dark] .colab-df-convert:hover {\n",
              "      background-color: #434B5C;\n",
              "      box-shadow: 0px 1px 3px 1px rgba(0, 0, 0, 0.15);\n",
              "      filter: drop-shadow(0px 1px 2px rgba(0, 0, 0, 0.3));\n",
              "      fill: #FFFFFF;\n",
              "    }\n",
              "  </style>\n",
              "\n",
              "      <script>\n",
              "        const buttonEl =\n",
              "          document.querySelector('#df-c04033d3-a7cf-4a2b-85b6-12b769309cf0 button.colab-df-convert');\n",
              "        buttonEl.style.display =\n",
              "          google.colab.kernel.accessAllowed ? 'block' : 'none';\n",
              "\n",
              "        async function convertToInteractive(key) {\n",
              "          const element = document.querySelector('#df-c04033d3-a7cf-4a2b-85b6-12b769309cf0');\n",
              "          const dataTable =\n",
              "            await google.colab.kernel.invokeFunction('convertToInteractive',\n",
              "                                                     [key], {});\n",
              "          if (!dataTable) return;\n",
              "\n",
              "          const docLinkHtml = 'Like what you see? Visit the ' +\n",
              "            '<a target=\"_blank\" href=https://colab.research.google.com/notebooks/data_table.ipynb>data table notebook</a>'\n",
              "            + ' to learn more about interactive tables.';\n",
              "          element.innerHTML = '';\n",
              "          dataTable['output_type'] = 'display_data';\n",
              "          await google.colab.output.renderOutput(dataTable, element);\n",
              "          const docLink = document.createElement('div');\n",
              "          docLink.innerHTML = docLinkHtml;\n",
              "          element.appendChild(docLink);\n",
              "        }\n",
              "      </script>\n",
              "    </div>\n",
              "  </div>\n",
              "  "
            ]
          },
          "metadata": {},
          "execution_count": 24
        }
      ],
      "source": [
        "edges.head()"
      ]
    },
    {
      "cell_type": "code",
      "execution_count": null,
      "metadata": {
        "id": "zGcTs0U5T7sU",
        "colab": {
          "base_uri": "https://localhost:8080/"
        },
        "outputId": "b8d97c51-c999-4451-a37d-a73468be4884"
      },
      "outputs": [
        {
          "output_type": "execute_result",
          "data": {
            "text/plain": [
              "Index(['osmid', 'name', 'highway', 'oneway', 'length', 'geometry', 'ref',\n",
              "       'bridge'],\n",
              "      dtype='object')"
            ]
          },
          "metadata": {},
          "execution_count": 25
        }
      ],
      "source": [
        "edges.columns"
      ]
    },
    {
      "cell_type": "code",
      "source": [
        "# Tipos de rodovias no dataframe selecionado\n",
        "print(edges['highway'].unique())"
      ],
      "metadata": {
        "colab": {
          "base_uri": "https://localhost:8080/"
        },
        "id": "9zFTVbr0kBBA",
        "outputId": "d5aef9c7-ab7f-4521-d070-dfba47b9f128"
      },
      "execution_count": null,
      "outputs": [
        {
          "output_type": "stream",
          "name": "stdout",
          "text": [
            "['tertiary' 'residential' 'secondary' 'path' 'unclassified' 'service'\n",
            " 'footway' 'track' 'secondary_link']\n"
          ]
        }
      ]
    },
    {
      "cell_type": "code",
      "execution_count": null,
      "metadata": {
        "id": "DyxrP4PRwQJ0",
        "colab": {
          "base_uri": "https://localhost:8080/",
          "height": 34
        },
        "outputId": "7cb2e2d5-a6f4-42d8-a896-92f52019f895"
      },
      "outputs": [
        {
          "output_type": "display_data",
          "data": {
            "text/plain": [
              "<Figure size 432x288 with 0 Axes>"
            ]
          },
          "metadata": {}
        }
      ],
      "source": [
        "# Unindo os datasets\n",
        "# ax = area.plot(facecolor='lightblue')\n",
        "ax = edges.plot(ax=ax, linewidth=1, edgecolor='#BC8F8F') #ruas\n",
        "ax = edificios.plot(ax=ax, facecolor='khaki', alpha=0.7)\n",
        "ax = socioecon.plot(ax=ax, color='green', alpha=0.7, markersize=10)"
      ]
    },
    {
      "cell_type": "code",
      "execution_count": null,
      "metadata": {
        "id": "jQ9mm8QF96d_"
      },
      "outputs": [],
      "source": [
        "# Buscando áreas de interesse ambiental\n",
        "ambiental = ox.geometries_from_polygon(planicie, tags={'protected_area':True})"
      ]
    },
    {
      "cell_type": "code",
      "execution_count": null,
      "metadata": {
        "id": "z5a0N3L4PGLj",
        "colab": {
          "base_uri": "https://localhost:8080/"
        },
        "outputId": "bfdbfae8-c4bc-4bd0-ddc6-478d9b66b4a0"
      },
      "outputs": [
        {
          "output_type": "execute_result",
          "data": {
            "text/plain": [
              "geopandas.geodataframe.GeoDataFrame"
            ]
          },
          "metadata": {},
          "execution_count": 29
        }
      ],
      "source": [
        "type(ambiental)"
      ]
    },
    {
      "cell_type": "code",
      "execution_count": null,
      "metadata": {
        "id": "9x4NpSq-QLTd",
        "colab": {
          "base_uri": "https://localhost:8080/"
        },
        "outputId": "5074e179-01a9-4799-b7f1-472d8a382726"
      },
      "outputs": [
        {
          "output_type": "stream",
          "name": "stdout",
          "text": [
            "Empty GeoDataFrame\n",
            "Columns: [geometry]\n",
            "Index: []\n"
          ]
        }
      ],
      "source": [
        "# Checando tabela de atributos\n",
        "teste = gpd.GeoDataFrame.isnull(ambiental)\n",
        "print(teste)"
      ]
    },
    {
      "cell_type": "code",
      "execution_count": null,
      "metadata": {
        "id": "DD-KV_teRU5w",
        "colab": {
          "base_uri": "https://localhost:8080/"
        },
        "outputId": "36939478-3195-4492-c64a-1b20ee2f23e1"
      },
      "outputs": [
        {
          "output_type": "stream",
          "name": "stdout",
          "text": [
            "False\n",
            "False\n",
            "True\n",
            "False\n"
          ]
        }
      ],
      "source": [
        "# Verificação DPA\n",
        "print(edificios.empty)\n",
        "print(edges.empty)\n",
        "print(ambiental.empty)\n",
        "print(socioecon.empty)"
      ]
    },
    {
      "cell_type": "markdown",
      "source": [
        "### **Testes**\n",
        "\n"
      ],
      "metadata": {
        "id": "3nOI-R9XZlUp"
      }
    },
    {
      "cell_type": "code",
      "source": [
        "#teste Sistema viário\n",
        "\n",
        "import pandas as pd\n",
        "\n",
        "rodovias_importantes = ['motorway', 'trunk', 'primary', 'secondary', 'tertiary', \n",
        "                        'motorway_link', 'trunk_link', 'primary_link', 'secondary_link',\n",
        "                        'tertiary_link', 'busway']\n",
        "rodovias_secundarias = ['unclassified', 'residential', 'living_street', 'service',\n",
        "                        'pedestrian', 'track', 'escape', 'raceway', 'footway',\n",
        "                        'sidewlak', 'cycleway']\n",
        "\n",
        "print(edges['highway'].isin(rodovias_importantes))"
      ],
      "metadata": {
        "colab": {
          "base_uri": "https://localhost:8080/"
        },
        "id": "gRRvi7yEQ71P",
        "outputId": "fbc7fd41-31f4-4675-8e2d-fecaa823f46e"
      },
      "execution_count": null,
      "outputs": [
        {
          "output_type": "stream",
          "name": "stdout",
          "text": [
            "u           v           key\n",
            "848015896   7035534588  0       True\n",
            "848015903   4080775566  0      False\n",
            "            4080798758  0      False\n",
            "848015950   4080775551  0      False\n",
            "            4080775202  0       True\n",
            "                               ...  \n",
            "9172640529  9172640532  0      False\n",
            "9172640532  9172640529  0      False\n",
            "9172640533  7033927214  0      False\n",
            "            7033927226  0      False\n",
            "9747562831  9172640529  0      False\n",
            "Name: highway, Length: 386, dtype: bool\n"
          ]
        }
      ]
    },
    {
      "cell_type": "code",
      "source": [
        "#teste Atividades Socioeconômicas\n",
        "\n",
        "# Tipos de rodovias no dataframe selecionado\n",
        "print(socioecon['amenity'].unique(), '\\n')\n",
        "print(socioecon['landuse'].unique(),'\\n')\n",
        "print(socioecon['leisure'].unique(), '\\n')"
      ],
      "metadata": {
        "colab": {
          "base_uri": "https://localhost:8080/"
        },
        "id": "2Pg1wpZNecJv",
        "outputId": "72e7ac45-177b-434f-fd0c-b0ab395fc4cd"
      },
      "execution_count": null,
      "outputs": [
        {
          "output_type": "stream",
          "name": "stdout",
          "text": [
            "['cinema' 'place_of_worship' 'ice_cream' 'fast_food' 'school' 'library'\n",
            " 'fountain' 'bank' 'college' 'townhall' 'restaurant' nan 'bus_station'] \n",
            "\n",
            "[nan 'grass' 'industrial' 'forest'] \n",
            "\n",
            "[nan 'park'] \n",
            "\n"
          ]
        }
      ]
    },
    {
      "cell_type": "markdown",
      "source": [
        "### **Classificando DPA**"
      ],
      "metadata": {
        "id": "N2E7L7CKvuxI"
      }
    },
    {
      "cell_type": "code",
      "execution_count": null,
      "metadata": {
        "id": "wRTu2VSFWsI_",
        "colab": {
          "base_uri": "https://localhost:8080/"
        },
        "outputId": "4372e4ec-720d-47fa-f4b3-b307f98cb6ec"
      },
      "outputs": [
        {
          "output_type": "stream",
          "name": "stdout",
          "text": [
            "Informe o volume total do reservatório em milhões de m³: 200\n",
            "Reservatório Grande (3)\n",
            "Potencial de perdas de vidas humanas Existente (12)\n",
            "Impacto ambiental significativo (3)\n",
            "Impacto Socioeconômico Alto (5)\n",
            "\n",
            " ATENÇÃO: a classe Impacto Socioeconômico MÉDIO NÂO foi considerada\n",
            "\n",
            "Somatório DPA: 23\n",
            "\u001b[1mDano Potencial Associado ALTO\u001b[0m\n"
          ]
        }
      ],
      "source": [
        "#Classificador (a) Volume Total do Reservatório\n",
        "\n",
        "volume_reservatorio  = int(input(\"Informe o volume total do reservatório em milhões de m³: \"))   \n",
        "\n",
        "def class_volume(volume_reservatorio):\n",
        "  contador = 0\n",
        "  if volume_reservatorio <= 5:\n",
        "    contador += 1\n",
        "    print(\"Reservatório Pequeno (1)\")\n",
        "  elif 5 < volume_reservatorio <= 75:\n",
        "    contador += 2\n",
        "    print(\"Reservatório Médio (2)\")\n",
        "  elif 75 < volume_reservatorio <= 200:\n",
        "    contador += 3\n",
        "    print(\"Reservatório Grande (3)\")\n",
        "  else:\n",
        "    contador += 5\n",
        "    print(\"Reservatório Muito Grande (5)\")\n",
        "  \n",
        "  return contador\n",
        "\n",
        "\n",
        "#Classificador (b) Potencial de perdas de vidas humanas\n",
        "\n",
        "rodovias_importantes = ['motorway', 'trunk', 'primary', 'secondary', 'tertiary', \n",
        "                        'motorway_link', 'trunk_link', 'primary_link', 'secondary_link',\n",
        "                        'tertiary_link', 'busway']\n",
        "rodovias_secundarias = ['unclassified', 'residential', 'living_street', 'service',\n",
        "                        'pedestrian', 'track', 'escape', 'raceway', 'footway',\n",
        "                        'sidewlak', 'cycleway']\n",
        "\n",
        "def class_vidas():\n",
        "  contador = 0\n",
        "  if edificios.empty == False:\n",
        "    contador += 12\n",
        "    print('Potencial de perdas de vidas humanas Existente (12)')\n",
        "  elif edificios.empty == True:\n",
        "    contador += 0\n",
        "    if edges.empty == False and edges['highway'].isin(rodovias_importantes) == True:\n",
        "      contador += 8\n",
        "      print('Potencial de perdas de vidas humanas Frequente (8)')\n",
        "    elif edges.empty == False and edges['highway'].isin(rodovias_secundarias) == True:\n",
        "      contador += 4\n",
        "      print('Potencial de perdas de vidas humanas Frequente (4)')\n",
        "    else:\n",
        "      contador += 0  \n",
        "      print('Potencial de perdas de vidas humanas Inexistente (0)') \n",
        "\n",
        "  return contador\n",
        "\n",
        "\n",
        "# Classificador (c) Impacto Ambiental \n",
        "\n",
        "def class_ambiental():\n",
        "  contador = 0\n",
        "  if ambiental.empty == False:\n",
        "    contador += 5\n",
        "    print('Impacto ambiental muito significativo (5)')\n",
        "  elif ambiental.empty == True:\n",
        "    contador += 3\n",
        "    print('Impacto ambiental significativo (3)')\n",
        "\n",
        "  return contador\n",
        "\n",
        "\n",
        "# Classificador (d) Impacto Socioeconômico\n",
        "\n",
        "adensado = ['commercial', 'residential', 'industrial', 'education','construction', \n",
        "            'retail', 'brownfield', 'cemetery', 'garages', 'greenfield', 'port', \n",
        "            'recreation_ground', 'religious', 'military', 'village_green']\n",
        "            \n",
        "\n",
        "nao_adensado = ['allotments',  'farmland', 'farmyard', 'flowerbed', 'forest', \n",
        "                'meadow', 'orchard', 'vineyard', 'aquaculture', 'grass', 'landfill']\n",
        "\n",
        "def class_socioecon():\n",
        "  contador = 0\n",
        "  if socioecon.empty == False:\n",
        "    if socioecon['amenity'].empty == False or socioecon['landuse'].isin(adensado):\n",
        "      contador += 5\n",
        "      print('Impacto Socioeconômico Alto (5)')\n",
        "    elif socioecon['leisure'].empty == False or socioecon['landuse'].isin(nao_adensado):\n",
        "      contador += 1\n",
        "      print('Impacto Socioeconômico Baixo (1)')\n",
        "  elif socioecon.empty == True:\n",
        "    contador += 0\n",
        "    print('Impacto Socioeconômico Inexistente (0)')\n",
        "  print(\"\\n ATENÇÃO: a classe Impacto Socioeconômico MÉDIO NÃO foi considerada\")\n",
        "  return contador\n",
        "\n",
        "\n",
        "#DPA\n",
        "dpa = class_volume (volume_reservatorio) + class_vidas() + class_ambiental() + class_socioecon()\n",
        "print(f'\\nSomatório DPA: {dpa}')\n",
        "\n",
        "def class_dpa():\n",
        "  if dpa <= 10:\n",
        "    print('\\033[1m' + 'Dano Potencial Associado BAIXO' + '\\033[0m')\n",
        "  elif 10 < dpa <16:\n",
        "    print('\\033[1m' + 'Dano Potencial Associado MÉDIO' + '\\033[0m')\n",
        "  else:\n",
        "    print('\\033[1m' + 'Dano Potencial Associado ALTO' + '\\033[0m')\n",
        "\n",
        "class_dpa()\n",
        "  "
      ]
    }
  ],
  "metadata": {
    "colab": {
      "collapsed_sections": [],
      "provenance": [],
      "authorship_tag": "ABX9TyM2P2aOETbhI1Q3sKBSXOJH",
      "include_colab_link": true
    },
    "kernelspec": {
      "display_name": "Python 3",
      "name": "python3"
    },
    "language_info": {
      "name": "python"
    }
  },
  "nbformat": 4,
  "nbformat_minor": 0
}